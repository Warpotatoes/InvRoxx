{
 "cells": [
  {
   "cell_type": "code",
   "execution_count": 120,
   "metadata": {},
   "outputs": [],
   "source": [
    "\n",
    "from tqdm.notebook  import tqdm\n",
    "from selenium import webdriver\n",
    "from selenium.webdriver.common.by import By\n",
    "import selenium.common.exceptions as sele_excep\n",
    "from selenium.webdriver.edge.options import Options\n",
    "import re\n",
    "from selenium.webdriver.support.ui import WebDriverWait\n",
    "from selenium.webdriver.support import expected_conditions as EC\n",
    "from selenium.common.exceptions import TimeoutException\n",
    "import copy\n",
    "import time \n",
    "tqdm.pandas()"
   ]
  },
  {
   "cell_type": "markdown",
   "metadata": {},
   "source": [
    "# selenium version"
   ]
  },
  {
   "cell_type": "code",
   "execution_count": 100,
   "metadata": {},
   "outputs": [],
   "source": [
    "options = Options()\n",
    "# options.add_argument(\"--headless\")\n",
    "driver = webdriver.Edge(options=options)\n",
    "driver.get(\"https://d-bk.net/fr/t/Ax3u\")"
   ]
  },
  {
   "cell_type": "code",
   "execution_count": 23,
   "metadata": {},
   "outputs": [],
   "source": [
    "driver.close()"
   ]
  },
  {
   "cell_type": "code",
   "execution_count": 101,
   "metadata": {},
   "outputs": [
    {
     "data": {
      "text/plain": [
       "68"
      ]
     },
     "execution_count": 101,
     "metadata": {},
     "output_type": "execute_result"
    }
   ],
   "source": [
    "stats=driver.find_elements(By.CLASS_NAME,\"stat\")\n",
    "len(stats)"
   ]
  },
  {
   "cell_type": "code",
   "execution_count": 102,
   "metadata": {},
   "outputs": [
    {
     "data": {
      "text/plain": [
       "'5195\\nPdV'"
      ]
     },
     "execution_count": 102,
     "metadata": {},
     "output_type": "execute_result"
    }
   ],
   "source": [
    "stats[0].text"
   ]
  },
  {
   "cell_type": "code",
   "execution_count": null,
   "metadata": {},
   "outputs": [],
   "source": [
    "perso=dict()\n",
    "stats_clean=stats[:44]\n",
    "for stat in stats[:44]:\n",
    "    s=stat.text.split(\"\\n\")\n",
    "    if len(s)>1:\n",
    "        perso[s[1]]=s[0]"
   ]
  },
  {
   "cell_type": "code",
   "execution_count": null,
   "metadata": {},
   "outputs": [
    {
     "data": {
      "text/plain": [
       "{'PdV': '5063',\n",
       " 'PP': '171',\n",
       " 'PA': '12',\n",
       " 'PM': '5',\n",
       " 'PO': '5',\n",
       " 'Initiative': '2841',\n",
       " 'Critique': '34',\n",
       " 'Invocation': '3',\n",
       " 'Soin': '67',\n",
       " 'Vitalité': '4013',\n",
       " 'Sagesse': '470',\n",
       " 'Force': '230',\n",
       " 'Intelligence': '1050',\n",
       " 'Chance': '160',\n",
       " 'Agilité': '401',\n",
       " 'Puissance': '15',\n",
       " 'Fuite': '88',\n",
       " 'Esq. PA': '43',\n",
       " 'Esq. PM': '44',\n",
       " 'Pods': '2150',\n",
       " 'Tacle': '36',\n",
       " 'Ret. PA': '47',\n",
       " 'Ret. PM': '47',\n",
       " 'Niv. Stuff': '200',\n",
       " 'Do Neutre': '30',\n",
       " 'Do Terre': '30',\n",
       " 'Do Feu': '121',\n",
       " 'Do Eau': '30',\n",
       " 'Do Air': '49',\n",
       " 'Do Critique': '52',\n",
       " 'Do Poussée': '0',\n",
       " 'Ré Neutre': '5',\n",
       " '% Ré Neutre': '25',\n",
       " 'Ré Terre': '10',\n",
       " '% Ré Terre': '25',\n",
       " 'Ré Feu': '5',\n",
       " '% Ré Feu': '23',\n",
       " 'Ré Eau': '0',\n",
       " '% Ré Eau': '23',\n",
       " 'Ré Air': '10',\n",
       " '% Ré Air': '37',\n",
       " 'Ré Critique': '15',\n",
       " 'Ré Poussée': '0'}"
      ]
     },
     "execution_count": 33,
     "metadata": {},
     "output_type": "execute_result"
    }
   ],
   "source": [
    "perso"
   ]
  },
  {
   "cell_type": "code",
   "execution_count": 122,
   "metadata": {},
   "outputs": [],
   "source": [
    "\n",
    "def get_stats(url):\n",
    "    if re.match(\"https://d-bk.net/(fr|en|es)/t/[a-zA-Z0-9]{4}\",url):\n",
    "        options = Options() \n",
    "        options.add_argument(\"--headless\")\n",
    "        time.sleep(6)\n",
    "\n",
    "        driver = webdriver.Edge(options=options)\n",
    "        try :\n",
    "            driver.get(url)\n",
    "        except :\n",
    "            driver.close()\n",
    "            return 'Erreur : echec de la requete'\n",
    "\n",
    "        delay = 10 # seconds\n",
    "        driver.refresh()\n",
    "        # driver.implicitly_wait(8) \n",
    "        time.sleep(6)\n",
    "        \n",
    "        try:\n",
    "            WebDriverWait(driver, delay).until(EC.presence_of_element_located((By.CLASS_NAME, 'stat')))\n",
    "        except TimeoutException:\n",
    "            return 'Erreur : la requete a mis trop de temps'\n",
    "        time.sleep(6)\n",
    "\n",
    "        # driver.refresh()\n",
    "        stats=driver.find_elements(By.CLASS_NAME,\"stat\")\n",
    "        # try:\n",
    "        #     if stats[0].text=='55\\nPdV':\n",
    "        #         driver.refresh()\n",
    "        # except:\n",
    "        #     driver.refresh()\n",
    "        perso={key: -1000 for key in FR_KEYS}\n",
    "        for stat in stats:#[:44]:\n",
    "            s=stat.text.split(\"\\n\")\n",
    "            if len(s)>1:\n",
    "                if int(s[0])>perso[ALIASES[s[1]]]:\n",
    "                    perso[ALIASES[s[1]]]=int(s[0])\n",
    "    else:\n",
    "        driver.close()\n",
    "        return (\"Mauvais lien, copiez collez le lien en haut a droite de la page dofusbook.\") \n",
    "\n",
    "    driver.close()\n",
    "    return perso\n"
   ]
  },
  {
   "cell_type": "code",
   "execution_count": 124,
   "metadata": {},
   "outputs": [
    {
     "data": {
      "text/plain": [
       "{'PdV': 5195,\n",
       " 'PP': 175,\n",
       " 'PA': 11,\n",
       " 'PM': 6,\n",
       " 'PO': 7,\n",
       " 'Initiative': 3210,\n",
       " 'Critique': 51,\n",
       " 'Invocation': 3,\n",
       " 'Soin': 0,\n",
       " 'Vitalité': -1000,\n",
       " 'Sagesse': -1000,\n",
       " 'Force': -1000,\n",
       " 'Intelligence': -1000,\n",
       " 'Chance': -1000,\n",
       " 'Agilité': -1000,\n",
       " 'Puissance': -1000,\n",
       " 'Fuite': -1000,\n",
       " 'Esq. PA': -1000,\n",
       " 'Esq. PM': -1000,\n",
       " 'Pods': -1000,\n",
       " 'Tacle': -1000,\n",
       " 'Ret. PA': -1000,\n",
       " 'Ret. PM': -1000,\n",
       " 'Niv. Stuff': -1000,\n",
       " 'Do Critique': -1000,\n",
       " '% Ré Air': -1000,\n",
       " '% Ré Feu': -1000,\n",
       " 'Do Eau': -1000,\n",
       " 'Do Terre': -1000,\n",
       " 'Do Neutre': -1000,\n",
       " '% Ré Terre': -1000,\n",
       " 'Prospection': -1000,\n",
       " 'Do Feu': -1000,\n",
       " 'Do Air': -1000,\n",
       " 'Do Poussée': -1000,\n",
       " 'Ré Neutre': -1000,\n",
       " '% Ré Neutre': -1000,\n",
       " 'Ré Terre': -1000,\n",
       " 'Ré Feu': -1000,\n",
       " 'Ré Eau': -1000,\n",
       " '% Ré Eau': -1000,\n",
       " 'Ré Air': -1000,\n",
       " 'Ré Critique': -1000,\n",
       " 'Ré Poussée': -1000}"
      ]
     },
     "execution_count": 124,
     "metadata": {},
     "output_type": "execute_result"
    }
   ],
   "source": [
    "base=get_stats(\"https://d-bk.net/fr/t/Ax3u\")\n",
    "base"
   ]
  },
  {
   "cell_type": "code",
   "execution_count": 75,
   "metadata": {},
   "outputs": [],
   "source": [
    "fr_keys=['PdV', 'PP', 'PA', 'PM', 'PO', 'Initiative', 'Critique', 'Invocation', 'Soin', 'Vitalité', 'Sagesse', 'Force', 'Intelligence', 'Chance', 'Agilité', 'Puissance', 'Fuite', 'Esq. PA', 'Esq. PM', 'Pods', 'Tacle', 'Ret. PA', 'Ret. PM', 'Niv. Stuff', 'Do Critique', '% Ré Air', '% Ré Feu', 'Do Eau', 'Do Terre', 'Do Neutre', '% Ré Terre', 'Prospection', 'Do Feu', 'Do Air', 'Do Poussée', 'Ré Neutre', '% Ré Neutre', 'Ré Terre', 'Ré Feu', 'Ré Eau', '% Ré Eau', 'Ré Air', 'Ré Critique', 'Ré Poussée']\n",
    "en_keys=['PdV', 'PP', 'AP', 'MP', 'Range', 'Initiative', 'Critical', 'Summon', 'Heal', 'Vitality', 'Wisdom', 'Strength', 'Intelligence', 'Chance', 'Agility', 'Power', 'Dodge', 'AP Res.', 'MP Res.', 'Pods', 'Lock', 'AP Red', 'MP Red', 'Niv. Stuff', 'Da Critical', '% Re Air', '% Re Fire', 'Da Water', 'Da Earth', 'Da Neutral', '% Re Earth', 'Prospecting', 'Da Fire', 'Da Air', 'Da Pushback', 'Re Neutral', '% Re Neutral', 'Re Earth', 'Re Fire', 'Re Water', '% Re Water', 'Re Air', 'Re Critical', 'Re Pushback']\n",
    "es_keys=['PdV', 'PP', 'PA', 'PM', 'AL', 'Iniciativa', 'Crítico', 'Invocación', 'Cura', 'Vitalidad', 'Sabiduría', 'Fuerza', 'Inteligencia', 'Suerte', 'Agilidad', 'Potencia', 'Huida', 'Esq. PA', 'Esq. PM', 'Pods', 'Placaje', 'Ret. PA', 'Ret. PM', 'Niv. Stuff', 'Da Crítico', '% Re Aire', '% Re Fuego', 'Da Agua', 'Da Tierra', 'Da Neutro', '% Re Tierra', 'Prospección', 'Da Fuego', 'Da Aire', 'Da Empuje', 'Re Neutro', '% Re Neutro', 'Re Tierra', 'Re Fuego', 'Re Agua', '% Re Agua', 'Re Aire', 'Re Crítico', 'Re Empuje']\n"
   ]
  },
  {
   "cell_type": "code",
   "execution_count": 95,
   "metadata": {},
   "outputs": [
    {
     "data": {
      "text/plain": [
       "{'PdV': 0,\n",
       " 'PP': 0,\n",
       " 'PA': 0,\n",
       " 'PM': 0,\n",
       " 'PO': 0,\n",
       " 'Initiative': 0,\n",
       " 'Critique': 0,\n",
       " 'Invocation': 0,\n",
       " 'Soin': 0,\n",
       " 'Vitalité': 0,\n",
       " 'Sagesse': 0,\n",
       " 'Force': 0,\n",
       " 'Intelligence': 0,\n",
       " 'Chance': 0,\n",
       " 'Agilité': 0,\n",
       " 'Puissance': 0,\n",
       " 'Fuite': 0,\n",
       " 'Esq. PA': 0,\n",
       " 'Esq. PM': 0,\n",
       " 'Pods': 0,\n",
       " 'Tacle': 0,\n",
       " 'Ret. PA': 0,\n",
       " 'Ret. PM': 0,\n",
       " 'Niv. Stuff': 0,\n",
       " 'Do Critique': 0,\n",
       " '% Ré Air': 0,\n",
       " '% Ré Feu': 0,\n",
       " 'Do Eau': 0,\n",
       " 'Do Terre': 0,\n",
       " 'Do Neutre': 0,\n",
       " '% Ré Terre': 0,\n",
       " 'Prospection': 0,\n",
       " 'Do Feu': 0,\n",
       " 'Do Air': 0,\n",
       " 'Do Poussée': 0,\n",
       " 'Ré Neutre': 0,\n",
       " '% Ré Neutre': 0,\n",
       " 'Ré Terre': 0,\n",
       " 'Ré Feu': 0,\n",
       " 'Ré Eau': 0,\n",
       " '% Ré Eau': 0,\n",
       " 'Ré Air': 0,\n",
       " 'Ré Critique': 0,\n",
       " 'Ré Poussée': 0}"
      ]
     },
     "execution_count": 95,
     "metadata": {},
     "output_type": "execute_result"
    }
   ],
   "source": [
    "d={key: 0 for key in fr_keys}\n",
    "d"
   ]
  },
  {
   "cell_type": "code",
   "execution_count": 76,
   "metadata": {},
   "outputs": [
    {
     "name": "stdout",
     "output_type": "stream",
     "text": [
      "44 44 44\n"
     ]
    }
   ],
   "source": [
    "print(len(fr_keys),len(en_keys),len(es_keys))\n"
   ]
  },
  {
   "cell_type": "code",
   "execution_count": 73,
   "metadata": {},
   "outputs": [],
   "source": [
    "mazpno=get_stats(\"https://d-bk.net/fr/t/931X\")"
   ]
  },
  {
   "cell_type": "code",
   "execution_count": 4,
   "metadata": {},
   "outputs": [],
   "source": [
    "base_cp=copy.deepcopy(base)\n",
    "base_cp[0],base_cp[3]=base_cp[3],base_cp[0]"
   ]
  },
  {
   "cell_type": "code",
   "execution_count": 5,
   "metadata": {},
   "outputs": [
    {
     "data": {
      "text/plain": [
       "False"
      ]
     },
     "execution_count": 5,
     "metadata": {},
     "output_type": "execute_result"
    }
   ],
   "source": [
    "base_cp==base"
   ]
  },
  {
   "cell_type": "code",
   "execution_count": 13,
   "metadata": {},
   "outputs": [
    {
     "data": {
      "text/plain": [
       "True"
      ]
     },
     "execution_count": 13,
     "metadata": {},
     "output_type": "execute_result"
    }
   ],
   "source": [
    "base==get_stats(\"https://d-bk.net/fr/t/Ax3u\")"
   ]
  },
  {
   "cell_type": "code",
   "execution_count": 25,
   "metadata": {},
   "outputs": [
    {
     "data": {
      "application/vnd.jupyter.widget-view+json": {
       "model_id": "a9bf414cc40b46ea8b4953ccf09f5f67",
       "version_major": 2,
       "version_minor": 0
      },
      "text/plain": [
       "  0%|          | 0/10 [00:00<?, ?it/s]"
      ]
     },
     "metadata": {},
     "output_type": "display_data"
    },
    {
     "name": "stdout",
     "output_type": "stream",
     "text": [
      "[['5195', 'PdV'], ['175', 'PP'], ['11', 'PA', '+1'], ['6', 'PM', '+1'], ['7', 'PO', '+1'], ['3210', 'Initiative'], ['51', 'Critique'], ['3', 'Invocation'], ['0', 'Soin'], ['.'], ['4145', 'Vitalité'], ['405', 'Sagesse'], ['1120', 'Force'], ['230', 'Intelligence'], ['400', 'Chance'], ['160', 'Agilité'], ['0', 'Puissance'], ['-11', 'Fuite'], ['47', 'Esq. PA'], ['64', 'Esq. PM'], ['6600', 'Pods'], ['16', 'Tacle'], ['13', 'Ret. PA'], ['37', 'Ret. PM'], ['200', 'Niv. Stuff'], ['1', 'PA'], ['2', 'PM'], ['1', 'PO'], ['40', 'Force'], ['40', 'Chance'], ['15', 'Do Critique'], ['19', '% Ré Air'], ['18', '% Ré Feu'], ['47', 'Do Critique'], ['-37', 'Ret. PA'], ['-37', 'Fuite'], ['45', 'Do Eau'], ['45', 'Do Terre'], ['45', 'Do Neutre'], ['1', 'PO'], ['1', 'PA'], ['15', 'Critique'], ['105', 'Sagesse'], ['180', 'Chance'], ['180', 'Force'], ['1110', 'Vitalité'], ['500', 'Initiative'], ['10', '% Ré Terre'], ['15', 'Prospection'], [''], [''], [''], [''], [''], [''], [''], [''], [''], [''], [''], [''], [''], [''], [''], [''], [''], [''], ['']]\n",
      "[['5195', 'PdV'], ['175', 'PP'], ['11', 'PA', '+1'], ['6', 'PM', '+1'], ['7', 'PO', '+1'], ['3210', 'Initiative'], ['51', 'Critique'], ['3', 'Invocation'], ['0', 'Soin'], ['.'], ['4145', 'Vitalité'], ['405', 'Sagesse'], ['1120', 'Force'], ['230', 'Intelligence'], ['400', 'Chance'], ['160', 'Agilité'], ['0', 'Puissance'], ['-11', 'Fuite'], ['47', 'Esq. PA'], ['64', 'Esq. PM'], ['6600', 'Pods'], ['16', 'Tacle'], ['13', 'Ret. PA'], ['37', 'Ret. PM'], ['200', 'Niv. Stuff'], ['1', 'PA'], ['2', 'PM'], ['1', 'PO'], [''], [''], [''], [''], [''], [''], [''], [''], [''], [''], [''], [''], [''], [''], [''], [''], [''], [''], [''], [''], [''], [''], [''], [''], [''], [''], [''], [''], [''], [''], [''], [''], [''], [''], [''], [''], [''], [''], [''], ['']]\n",
      "[['5195', 'PdV'], ['175', 'PP'], ['11', 'PA', '+1'], ['6', 'PM', '+1'], ['7', 'PO', '+1'], ['3210', 'Initiative'], ['51', 'Critique'], ['3', 'Invocation'], ['0', 'Soin'], ['.'], ['4145', 'Vitalité'], ['405', 'Sagesse'], ['1120', 'Force'], ['230', 'Intelligence'], ['400', 'Chance'], ['160', 'Agilité'], ['0', 'Puissance'], ['-11', 'Fuite'], ['47', 'Esq. PA'], ['64', 'Esq. PM'], ['6600', 'Pods'], ['16', 'Tacle'], ['13', 'Ret. PA'], ['37', 'Ret. PM'], ['200', 'Niv. Stuff'], ['1', 'PA'], ['2', 'PM'], ['1', 'PO'], ['40', 'Force'], ['40', 'Chance'], ['15', 'Do Critique'], ['19', '% Ré Air'], ['18', '% Ré Feu'], ['47', 'Do Critique'], ['-37', 'Ret. PA'], ['-37', 'Fuite'], ['45', 'Do Eau'], [''], [''], [''], [''], [''], [''], [''], [''], [''], [''], [''], [''], [''], [''], [''], [''], [''], [''], [''], [''], [''], [''], [''], [''], [''], [''], [''], [''], [''], [''], ['']]\n",
      "[['5195', 'PdV'], ['175', 'PP'], ['11', 'PA', '+1'], ['6', 'PM', '+1'], ['7', 'PO', '+1'], ['3210', 'Initiative'], ['51', 'Critique'], ['3', 'Invocation'], ['0', 'Soin'], ['.'], ['4145', 'Vitalité'], ['405', 'Sagesse'], ['1120', 'Force'], ['230', 'Intelligence'], ['400', 'Chance'], ['160', 'Agilité'], ['0', 'Puissance'], ['-11', 'Fuite'], ['47', 'Esq. PA'], ['64', 'Esq. PM'], ['6600', 'Pods'], ['16', 'Tacle'], ['13', 'Ret. PA'], ['37', 'Ret. PM'], ['200', 'Niv. Stuff'], ['1', 'PA'], ['2', 'PM'], ['1', 'PO'], ['40', 'Force'], ['40', 'Chance'], ['15', 'Do Critique'], ['19', '% Ré Air'], ['18', '% Ré Feu'], ['47', 'Do Critique'], ['-37', 'Ret. PA'], ['-37', 'Fuite'], ['45', 'Do Eau'], ['45', 'Do Terre'], ['45', 'Do Neutre'], ['1', 'PO'], ['1', 'PA'], ['15', 'Critique'], ['105', 'Sagesse'], ['180', 'Chance'], ['180', 'Force'], ['1110', 'Vitalité'], ['500', 'Initiative'], ['10', '% Ré Terre'], ['15', 'Prospection'], ['131', 'Do Neutre'], ['131', 'Do Terre'], ['30', 'Do Feu'], [''], [''], [''], [''], [''], [''], [''], [''], [''], [''], [''], [''], [''], [''], [''], ['']]\n",
      "[['5195', 'PdV'], ['175', 'PP'], ['11', 'PA', '+1'], ['6', 'PM', '+1'], ['7', 'PO', '+1'], ['3210', 'Initiative'], ['51', 'Critique'], ['3', 'Invocation'], ['0', 'Soin'], ['.'], ['4145', 'Vitalité'], ['405', 'Sagesse'], ['1120', 'Force'], ['230', 'Intelligence'], ['400', 'Chance'], ['160', 'Agilité'], ['0', 'Puissance'], ['-11', 'Fuite'], ['47', 'Esq. PA'], ['64', 'Esq. PM'], ['6600', 'Pods'], ['16', 'Tacle'], ['13', 'Ret. PA'], ['37', 'Ret. PM'], ['200', 'Niv. Stuff'], ['1', 'PA'], ['2', 'PM'], ['1', 'PO'], ['40', 'Force'], ['40', 'Chance'], [''], [''], [''], [''], [''], [''], [''], [''], [''], [''], [''], [''], [''], [''], [''], [''], [''], [''], [''], [''], [''], [''], [''], [''], [''], [''], [''], [''], [''], [''], [''], [''], [''], [''], [''], [''], [''], ['']]\n"
     ]
    }
   ],
   "source": [
    "for i in tqdm(range(10)):\n",
    "    temp=get_stats(\"https://d-bk.net/fr/t/Ax3u\")\n",
    "    if not base==temp:\n",
    "        print(temp)\n"
   ]
  },
  {
   "cell_type": "code",
   "execution_count": 12,
   "metadata": {},
   "outputs": [
    {
     "data": {
      "text/plain": [
       "[['5195', 'PdV'],\n",
       " ['175', 'PP'],\n",
       " ['11', 'PA', '+1'],\n",
       " ['6', 'PM', '+1'],\n",
       " ['7', 'PO', '+1'],\n",
       " ['3210', 'Initiative'],\n",
       " ['51', 'Critique'],\n",
       " ['3', 'Invocation'],\n",
       " ['0', 'Soin'],\n",
       " ['.'],\n",
       " ['4145', 'Vitalité'],\n",
       " ['405', 'Sagesse'],\n",
       " ['1120', 'Force'],\n",
       " ['230', 'Intelligence'],\n",
       " ['400', 'Chance'],\n",
       " ['160', 'Agilité'],\n",
       " ['0', 'Puissance'],\n",
       " ['-11', 'Fuite'],\n",
       " ['47', 'Esq. PA'],\n",
       " ['64', 'Esq. PM'],\n",
       " ['6600', 'Pods'],\n",
       " ['16', 'Tacle'],\n",
       " ['13', 'Ret. PA'],\n",
       " ['37', 'Ret. PM'],\n",
       " ['200', 'Niv. Stuff'],\n",
       " ['1', 'PA'],\n",
       " ['2', 'PM'],\n",
       " ['1', 'PO'],\n",
       " ['40', 'Force'],\n",
       " ['40', 'Chance'],\n",
       " ['15', 'Do Critique'],\n",
       " ['19', '% Ré Air'],\n",
       " ['18', '% Ré Feu'],\n",
       " ['47', 'Do Critique'],\n",
       " ['-37', 'Ret. PA'],\n",
       " [''],\n",
       " [''],\n",
       " [''],\n",
       " [''],\n",
       " [''],\n",
       " [''],\n",
       " [''],\n",
       " [''],\n",
       " [''],\n",
       " [''],\n",
       " [''],\n",
       " [''],\n",
       " [''],\n",
       " [''],\n",
       " [''],\n",
       " [''],\n",
       " [''],\n",
       " [''],\n",
       " [''],\n",
       " [''],\n",
       " [''],\n",
       " [''],\n",
       " [''],\n",
       " [''],\n",
       " [''],\n",
       " [''],\n",
       " [''],\n",
       " [''],\n",
       " [''],\n",
       " [''],\n",
       " [''],\n",
       " [''],\n",
       " ['']]"
      ]
     },
     "execution_count": 12,
     "metadata": {},
     "output_type": "execute_result"
    }
   ],
   "source": [
    "get_stats(\"https://d-bk.net/fr/t/Ax3u\")"
   ]
  },
  {
   "cell_type": "code",
   "execution_count": 28,
   "metadata": {},
   "outputs": [
    {
     "data": {
      "text/plain": [
       "[['5195', 'PdV'],\n",
       " ['175', 'PP'],\n",
       " ['11', 'PA', '+1'],\n",
       " ['6', 'PM', '+1'],\n",
       " ['7', 'PO', '+1'],\n",
       " ['3210', 'Initiative'],\n",
       " ['51', 'Critique'],\n",
       " ['3', 'Invocation'],\n",
       " ['0', 'Soin'],\n",
       " ['.'],\n",
       " ['4145', 'Vitalité'],\n",
       " ['405', 'Sagesse'],\n",
       " ['1120', 'Force'],\n",
       " ['230', 'Intelligence'],\n",
       " ['400', 'Chance'],\n",
       " ['160', 'Agilité'],\n",
       " ['0', 'Puissance'],\n",
       " ['-11', 'Fuite'],\n",
       " ['47', 'Esq. PA'],\n",
       " ['64', 'Esq. PM'],\n",
       " ['6600', 'Pods'],\n",
       " ['16', 'Tacle'],\n",
       " ['13', 'Ret. PA'],\n",
       " ['37', 'Ret. PM'],\n",
       " ['200', 'Niv. Stuff'],\n",
       " ['1', 'PA'],\n",
       " ['2', 'PM'],\n",
       " ['1', 'PO'],\n",
       " ['40', 'Force'],\n",
       " ['40', 'Chance'],\n",
       " ['15', 'Do Critique'],\n",
       " ['19', '% Ré Air'],\n",
       " ['18', '% Ré Feu'],\n",
       " ['47', 'Do Critique'],\n",
       " ['-37', 'Ret. PA'],\n",
       " ['-37', 'Fuite'],\n",
       " ['45', 'Do Eau'],\n",
       " ['45', 'Do Terre'],\n",
       " ['45', 'Do Neutre'],\n",
       " ['1', 'PO'],\n",
       " ['1', 'PA'],\n",
       " ['15', 'Critique'],\n",
       " ['105', 'Sagesse'],\n",
       " ['180', 'Chance'],\n",
       " ['180', 'Force'],\n",
       " ['1110', 'Vitalité'],\n",
       " ['500', 'Initiative'],\n",
       " ['10', '% Ré Terre'],\n",
       " ['15', 'Prospection'],\n",
       " ['131', 'Do Neutre'],\n",
       " ['131', 'Do Terre'],\n",
       " ['30', 'Do Feu'],\n",
       " ['75', 'Do Eau'],\n",
       " ['30', 'Do Air'],\n",
       " ['92', 'Do Critique'],\n",
       " ['0', 'Do Poussée'],\n",
       " ['15', 'Ré Neutre'],\n",
       " ['0', '% Ré Neutre'],\n",
       " ['0', 'Ré Terre'],\n",
       " ['16', '% Ré Terre'],\n",
       " ['20', 'Ré Feu'],\n",
       " ['38', '% Ré Feu'],\n",
       " ['0', 'Ré Eau'],\n",
       " ['20', '% Ré Eau'],\n",
       " ['35', 'Ré Air'],\n",
       " ['35', '% Ré Air'],\n",
       " ['15', 'Ré Critique'],\n",
       " ['0', 'Ré Poussée']]"
      ]
     },
     "execution_count": 28,
     "metadata": {},
     "output_type": "execute_result"
    }
   ],
   "source": [
    "base"
   ]
  },
  {
   "cell_type": "code",
   "execution_count": 85,
   "metadata": {},
   "outputs": [
    {
     "data": {
      "text/plain": [
       "{'PdV': 'PdV',\n",
       " 'PP': 'PP',\n",
       " 'AP': 'PA',\n",
       " 'PA': 'PA',\n",
       " 'MP': 'PM',\n",
       " 'PM': 'PM',\n",
       " 'Range': 'PO',\n",
       " 'PO': 'PO',\n",
       " 'AL': 'PO',\n",
       " 'Initiative': 'Initiative',\n",
       " 'Iniciativa': 'Initiative',\n",
       " 'Critical': 'Critique',\n",
       " 'Critique': 'Critique',\n",
       " 'Crítico': 'Critique',\n",
       " 'Summon': 'Invocation',\n",
       " 'Invocation': 'Invocation',\n",
       " 'Invocación': 'Invocation',\n",
       " 'Heal': 'Soin',\n",
       " 'Soin': 'Soin',\n",
       " 'Cura': 'Soin',\n",
       " 'Vitality': 'Vitalité',\n",
       " 'Vitalité': 'Vitalité',\n",
       " 'Vitalidad': 'Vitalité',\n",
       " 'Wisdom': 'Sagesse',\n",
       " 'Sagesse': 'Sagesse',\n",
       " 'Sabiduría': 'Sagesse',\n",
       " 'Strength': 'Force',\n",
       " 'Force': 'Force',\n",
       " 'Fuerza': 'Force',\n",
       " 'Intelligence': 'Intelligence',\n",
       " 'Inteligencia': 'Intelligence',\n",
       " 'Chance': 'Chance',\n",
       " 'Suerte': 'Chance',\n",
       " 'Agility': 'Agilité',\n",
       " 'Agilité': 'Agilité',\n",
       " 'Agilidad': 'Agilité',\n",
       " 'Power': 'Puissance',\n",
       " 'Puissance': 'Puissance',\n",
       " 'Potencia': 'Puissance',\n",
       " 'Dodge': 'Fuite',\n",
       " 'Fuite': 'Fuite',\n",
       " 'Huida': 'Fuite',\n",
       " 'AP Res.': 'Esq. PA',\n",
       " 'Esq. PA': 'Esq. PA',\n",
       " 'MP Res.': 'Esq. PM',\n",
       " 'Esq. PM': 'Esq. PM',\n",
       " 'Pods': 'Pods',\n",
       " 'Lock': 'Tacle',\n",
       " 'Tacle': 'Tacle',\n",
       " 'Placaje': 'Tacle',\n",
       " 'AP Red': 'Ret. PA',\n",
       " 'Ret. PA': 'Ret. PA',\n",
       " 'MP Red': 'Ret. PM',\n",
       " 'Ret. PM': 'Ret. PM',\n",
       " 'Niv. Stuff': 'Niv. Stuff',\n",
       " 'Da Critical': 'Do Critique',\n",
       " 'Do Critique': 'Do Critique',\n",
       " 'Da Crítico': 'Do Critique',\n",
       " '% Re Air': '% Ré Air',\n",
       " '% Ré Air': '% Ré Air',\n",
       " '% Re Aire': '% Ré Air',\n",
       " '% Re Fire': '% Ré Feu',\n",
       " '% Ré Feu': '% Ré Feu',\n",
       " '% Re Fuego': '% Ré Feu',\n",
       " 'Da Water': 'Do Eau',\n",
       " 'Do Eau': 'Do Eau',\n",
       " 'Da Agua': 'Do Eau',\n",
       " 'Da Earth': 'Do Terre',\n",
       " 'Do Terre': 'Do Terre',\n",
       " 'Da Tierra': 'Do Terre',\n",
       " 'Da Neutral': 'Do Neutre',\n",
       " 'Do Neutre': 'Do Neutre',\n",
       " 'Da Neutro': 'Do Neutre',\n",
       " '% Re Earth': '% Ré Terre',\n",
       " '% Ré Terre': '% Ré Terre',\n",
       " '% Re Tierra': '% Ré Terre',\n",
       " 'Prospecting': 'Prospection',\n",
       " 'Prospection': 'Prospection',\n",
       " 'Prospección': 'Prospection',\n",
       " 'Da Fire': 'Do Feu',\n",
       " 'Do Feu': 'Do Feu',\n",
       " 'Da Fuego': 'Do Feu',\n",
       " 'Da Air': 'Do Air',\n",
       " 'Do Air': 'Do Air',\n",
       " 'Da Aire': 'Do Air',\n",
       " 'Da Pushback': 'Do Poussée',\n",
       " 'Do Poussée': 'Do Poussée',\n",
       " 'Da Empuje': 'Do Poussée',\n",
       " 'Re Neutral': 'Ré Neutre',\n",
       " 'Ré Neutre': 'Ré Neutre',\n",
       " 'Re Neutro': 'Ré Neutre',\n",
       " '% Re Neutral': '% Ré Neutre',\n",
       " '% Ré Neutre': '% Ré Neutre',\n",
       " '% Re Neutro': '% Ré Neutre',\n",
       " 'Re Earth': 'Ré Terre',\n",
       " 'Ré Terre': 'Ré Terre',\n",
       " 'Re Tierra': 'Ré Terre',\n",
       " 'Re Fire': 'Ré Feu',\n",
       " 'Ré Feu': 'Ré Feu',\n",
       " 'Re Fuego': 'Ré Feu',\n",
       " 'Re Water': 'Ré Eau',\n",
       " 'Ré Eau': 'Ré Eau',\n",
       " 'Re Agua': 'Ré Eau',\n",
       " '% Re Water': '% Ré Eau',\n",
       " '% Ré Eau': '% Ré Eau',\n",
       " '% Re Agua': '% Ré Eau',\n",
       " 'Re Air': 'Ré Air',\n",
       " 'Ré Air': 'Ré Air',\n",
       " 'Re Aire': 'Ré Air',\n",
       " 'Re Critical': 'Ré Critique',\n",
       " 'Ré Critique': 'Ré Critique',\n",
       " 'Re Crítico': 'Ré Critique',\n",
       " 'Re Pushback': 'Ré Poussée',\n",
       " 'Ré Poussée': 'Ré Poussée',\n",
       " 'Re Empuje': 'Ré Poussée'}"
      ]
     },
     "execution_count": 85,
     "metadata": {},
     "output_type": "execute_result"
    }
   ],
   "source": [
    "FR_KEYS=['PdV', 'PP', 'PA', 'PM', 'PO', 'Initiative', 'Critique', 'Invocation', 'Soin', 'Vitalité', 'Sagesse', 'Force', 'Intelligence', 'Chance', 'Agilité', 'Puissance', 'Fuite', 'Esq. PA', 'Esq. PM', 'Pods', 'Tacle', 'Ret. PA', 'Ret. PM', 'Niv. Stuff', 'Do Critique', '% Ré Air', '% Ré Feu', 'Do Eau', 'Do Terre', 'Do Neutre', '% Ré Terre', 'Prospection', 'Do Feu', 'Do Air', 'Do Poussée', 'Ré Neutre', '% Ré Neutre', 'Ré Terre', 'Ré Feu', 'Ré Eau', '% Ré Eau', 'Ré Air', 'Ré Critique', 'Ré Poussée']\n",
    "EN_KEYS=['PdV', 'PP', 'AP', 'MP', 'Range', 'Initiative', 'Critical', 'Summon', 'Heal', 'Vitality', 'Wisdom', 'Strength', 'Intelligence', 'Chance', 'Agility', 'Power', 'Dodge', 'AP Res.', 'MP Res.', 'Pods', 'Lock', 'AP Red', 'MP Red', 'Niv. Stuff', 'Da Critical', '% Re Air', '% Re Fire', 'Da Water', 'Da Earth', 'Da Neutral', '% Re Earth', 'Prospecting', 'Da Fire', 'Da Air', 'Da Pushback', 'Re Neutral', '% Re Neutral', 'Re Earth', 'Re Fire', 'Re Water', '% Re Water', 'Re Air', 'Re Critical', 'Re Pushback']\n",
    "ES_KEYS=['PdV', 'PP', 'PA', 'PM', 'AL', 'Iniciativa', 'Crítico', 'Invocación', 'Cura', 'Vitalidad', 'Sabiduría', 'Fuerza', 'Inteligencia', 'Suerte', 'Agilidad', 'Potencia', 'Huida', 'Esq. PA', 'Esq. PM', 'Pods', 'Placaje', 'Ret. PA', 'Ret. PM', 'Niv. Stuff', 'Da Crítico', '% Re Aire', '% Re Fuego', 'Da Agua', 'Da Tierra', 'Da Neutro', '% Re Tierra', 'Prospección', 'Da Fuego', 'Da Aire', 'Da Empuje', 'Re Neutro', '% Re Neutro', 'Re Tierra', 'Re Fuego', 'Re Agua', '% Re Agua', 'Re Aire', 'Re Crítico', 'Re Empuje']\n",
    "\n",
    "ALIASES=dict()\n",
    "for i in range(len(FR_KEYS)):\n",
    "    ALIASES[EN_KEYS[i]]=FR_KEYS[i]\n",
    "    ALIASES[FR_KEYS[i]]=FR_KEYS[i]\n",
    "    ALIASES[ES_KEYS[i]]=FR_KEYS[i]\n",
    "ALIASES"
   ]
  },
  {
   "cell_type": "markdown",
   "metadata": {},
   "source": [
    "# request hidden api"
   ]
  },
  {
   "cell_type": "code",
   "execution_count": 5,
   "metadata": {},
   "outputs": [
    {
     "name": "stdout",
     "output_type": "stream",
     "text": [
      "{'scroll_vi': 100, 'scroll_sa': 100, 'scroll_fo': 100, 'scroll_in': 100, 'scroll_ch': 100, 'scroll_ag': 100, 'base_vi': 695, 'base_sa': 0, 'base_fo': 0, 'base_in': 200, 'base_ch': 0, 'base_ag': 0}\n"
     ]
    }
   ],
   "source": [
    "import requests\n",
    "\n",
    "url = \"https://touch.dofusbook.net/stuffs/touch/public/2766550\"\n",
    "\n",
    "payload = \"\"\n",
    "headers = {\n",
    "    \"User-Agent\": \"Mozilla/5.0 (Windows NT 10.0; Win64; x64; rv:132.0) Gecko/20100101 Firefox/132.0\",\n",
    "    \"Accept\": \"application/json, text/plain, */*\",\n",
    "    \"Accept-Language\": \"fr,fr-FR;q=0.8,en-US;q=0.5,en;q=0.3\",\n",
    "    \"Accept-Encoding\": \"gzip, deflate, br, zstd\",\n",
    "    \"x-lang\": \"fr\",\n",
    "    \"DNT\": \"1\",\n",
    "    \"Sec-GPC\": \"1\",\n",
    "    \"Connection\": \"keep-alive\",\n",
    "    \"Referer\": \"https://touch.dofusbook.net/fr/equipement/2766550-db/objets\",\n",
    "    \"Cookie\": \"_ga_JXQJETKB26=GS1.1.1731164314.1.1.1731164322.52.0.0; _ga=GA1.1.1381271639.1731164314\",\n",
    "    \"Sec-Fetch-Dest\": \"empty\",\n",
    "    \"Sec-Fetch-Mode\": \"cors\",\n",
    "    \"Sec-Fetch-Site\": \"same-origin\",\n",
    "    \"If-None-Match\": \"W/8b4e-E7zFtEsGxvoAudczPoyLm1eqsQE\",\n",
    "    \"TE\": \"trailers\"\n",
    "}\n",
    "\n",
    "response = requests.request(\"GET\", url, data=payload, headers=headers)\n",
    "\n",
    "print(response.json()[\"stuff\"][\"stuffCarac\"])"
   ]
  }
 ],
 "metadata": {
  "kernelspec": {
   "display_name": "Python 3",
   "language": "python",
   "name": "python3"
  },
  "language_info": {
   "codemirror_mode": {
    "name": "ipython",
    "version": 3
   },
   "file_extension": ".py",
   "mimetype": "text/x-python",
   "name": "python",
   "nbconvert_exporter": "python",
   "pygments_lexer": "ipython3",
   "version": "3.9.0"
  }
 },
 "nbformat": 4,
 "nbformat_minor": 2
}
